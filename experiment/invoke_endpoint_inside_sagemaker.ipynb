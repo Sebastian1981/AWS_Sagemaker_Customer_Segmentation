{
 "cells": [
  {
   "cell_type": "markdown",
   "metadata": {},
   "source": [
    "## Invoke SageMaker Enpoint from outside of AWS environment using SageMaker SDK\n",
    "\n",
    "Model used: XGBoost Bike Rental Prediction Trained in the XGBoost Lectures  \n",
    "  \n",
    "This example uses the IAM user: ml_user_predict. The user was setup in the housekeeping lecture of the course.  \n",
    "\n",
    "Refer to the lecture: Configure IAM Users, Setup Command Line Interface (CLI)\n",
    "\n",
    "Ensure xgboost-biketrain-v1 Endpoint is deployed before running this example  \n",
    "  \n",
    "To create an endpoint using SageMaker Console:  \n",
    "1. Select \"Models\" under \"Inference\" in navigation pane\n",
    "2. Search for model using this prefix: xgboost-biketrain-v1\n",
    "3. Select the latest model and choose create endpoint\n",
    "4. Specify endpoint name as: xgboost-biketrain-v1\n",
    "5. Create a new endpoint configuration\n",
    "6. Create a new endpoint\n",
    "7. After this lab is completed, delete the endpoint to avoid unnecessary charges"
   ]
  },
  {
   "cell_type": "code",
   "execution_count": 1,
   "metadata": {},
   "outputs": [],
   "source": [
    "# Install SageMaker 2.x version.\n",
    "#!pip install --upgrade sagemaker"
   ]
  },
  {
   "cell_type": "code",
   "execution_count": 2,
   "metadata": {},
   "outputs": [],
   "source": [
    "import boto3\n",
    "import sagemaker\n",
    "import math\n",
    "import dateutil\n",
    "import re\n",
    "import numpy as np\n",
    "\n",
    "# SDK 2 serializers and deserializers\n",
    "from sagemaker.serializers import CSVSerializer\n",
    "from sagemaker.deserializers import JSONDeserializer"
   ]
  },
  {
   "cell_type": "code",
   "execution_count": 3,
   "metadata": {},
   "outputs": [],
   "source": [
    "# Establish a session with AWS\n",
    "# Specify credentials and region to be used for this session.\n",
    "# We will use a ml_user_predict credentials that has limited privileges\n",
    "\n",
    "#boto_session = boto3.Session(profile_name='ml_user_predict',region_name='us-east-1')\n",
    "\n",
    "boto_session = boto3.Session()"
   ]
  },
  {
   "cell_type": "code",
   "execution_count": 4,
   "metadata": {},
   "outputs": [
    {
     "data": {
      "text/plain": [
       "boto3.session.Session"
      ]
     },
     "execution_count": 4,
     "metadata": {},
     "output_type": "execute_result"
    }
   ],
   "source": [
    "type(boto_session)"
   ]
  },
  {
   "cell_type": "code",
   "execution_count": 5,
   "metadata": {},
   "outputs": [],
   "source": [
    "sess = sagemaker.Session(boto_session=boto_session)"
   ]
  },
  {
   "cell_type": "code",
   "execution_count": 6,
   "metadata": {},
   "outputs": [],
   "source": [
    "# Create a predictor and point to an existing endpoint\n",
    "\n",
    "# Get Predictor using SageMaker SDK\n",
    "# Specify Your Endpoint Name\n",
    "endpoint_name = 'kmeans-2022-11-22-09-34-16-400'\n",
    "\n",
    "predictor = sagemaker.predictor.Predictor(endpoint_name=endpoint_name,\n",
    "                                                 sagemaker_session=sess)"
   ]
  },
  {
   "cell_type": "code",
   "execution_count": 7,
   "metadata": {},
   "outputs": [],
   "source": [
    "# We are sending data for inference in CSV format\n",
    "predictor.serializer = CSVSerializer()\n",
    "predictor.deserializer = JSONDeserializer()\n",
    "#predictor.deserializer = json_deserializer"
   ]
  },
  {
   "cell_type": "markdown",
   "metadata": {},
   "source": [
    "# Invoke endpoint to predict for multiple observations at once"
   ]
  },
  {
   "cell_type": "code",
   "execution_count": 8,
   "metadata": {},
   "outputs": [],
   "source": [
    "observation_1 = np.array([[-0.7319894 , -0.24943449, -0.42489973, -0.356934  , -0.3490788 ,\n",
    "       -0.46678555, -0.80649036, -0.6786608 , -0.7073132 , -0.6753489 ,\n",
    "       -0.4760698 , -0.5113332 , -0.96043336, -0.52897877, -0.31096753,\n",
    "       -0.52555096,  0.36067954]])"
   ]
  },
  {
   "cell_type": "code",
   "execution_count": 9,
   "metadata": {},
   "outputs": [],
   "source": [
    "observation_2 = np.array([[ 0.78696084,  0.13432467, -0.4695519 , -0.356934  , -0.45457622,\n",
    "        2.6056044 , -1.221758  , -0.6786608 , -0.91699517,  0.57396275,\n",
    "        0.11007385, -0.59179586,  0.68863904,  0.81864214,  0.08931021,\n",
    "        0.2342269 ,  0.36067954]])"
   ]
  },
  {
   "cell_type": "code",
   "execution_count": 10,
   "metadata": {},
   "outputs": [],
   "source": [
    "observation_3 = np.array([[ 0.44713512,  0.5180838 , -0.10766823,  0.10888851, -0.45457622,\n",
    "       -0.46678555,  1.2698432 ,  2.6734512 , -0.91699517, -0.6753489 ,\n",
    "       -0.4760698 , -0.10902011,  0.8260617 , -0.38380474, -0.10166318,\n",
    "       -0.52555096,  0.36067954]])"
   ]
  },
  {
   "cell_type": "code",
   "execution_count": 11,
   "metadata": {},
   "outputs": [
    {
     "data": {
      "text/plain": [
       "{'predictions': [{'closest_cluster': 2.0,\n",
       "   'distance_to_cluster': 1.2890762090682983}]}"
      ]
     },
     "execution_count": 11,
     "metadata": {},
     "output_type": "execute_result"
    }
   ],
   "source": [
    "# Let's invoke predictions\n",
    "result = predictor.predict(observation_1)\n",
    "result"
   ]
  },
  {
   "cell_type": "code",
   "execution_count": 12,
   "metadata": {},
   "outputs": [
    {
     "data": {
      "text/plain": [
       "[2.0]"
      ]
     },
     "execution_count": 12,
     "metadata": {},
     "output_type": "execute_result"
    }
   ],
   "source": [
    "labels = [pred['closest_cluster'] for pred in result['predictions']]\n",
    "labels"
   ]
  },
  {
   "cell_type": "markdown",
   "metadata": {},
   "source": [
    "# Invoke endpoint to predict for multiple observations at once"
   ]
  },
  {
   "cell_type": "code",
   "execution_count": 13,
   "metadata": {},
   "outputs": [
    {
     "data": {
      "text/plain": [
       "array([[-0.7319894 , -0.24943449, -0.42489973, -0.356934  , -0.3490788 ,\n",
       "        -0.46678555, -0.80649036, -0.6786608 , -0.7073132 , -0.6753489 ,\n",
       "        -0.4760698 , -0.5113332 , -0.96043336, -0.52897877, -0.31096753,\n",
       "        -0.52555096,  0.36067954],\n",
       "       [ 0.78696084,  0.13432467, -0.4695519 , -0.356934  , -0.45457622,\n",
       "         2.6056044 , -1.221758  , -0.6786608 , -0.91699517,  0.57396275,\n",
       "         0.11007385, -0.59179586,  0.68863904,  0.81864214,  0.08931021,\n",
       "         0.2342269 ,  0.36067954],\n",
       "       [ 0.44713512,  0.5180838 , -0.10766823,  0.10888851, -0.45457622,\n",
       "        -0.46678555,  1.2698432 ,  2.6734512 , -0.91699517, -0.6753489 ,\n",
       "        -0.4760698 , -0.10902011,  0.8260617 , -0.38380474, -0.10166318,\n",
       "        -0.52555096,  0.36067954]])"
      ]
     },
     "execution_count": 13,
     "metadata": {},
     "output_type": "execute_result"
    }
   ],
   "source": [
    "multiple_observations = np.concatenate((observation_1, observation_2, observation_3))\n",
    "multiple_observations"
   ]
  },
  {
   "cell_type": "code",
   "execution_count": 14,
   "metadata": {},
   "outputs": [
    {
     "data": {
      "text/plain": [
       "{'predictions': [{'closest_cluster': 2.0,\n",
       "   'distance_to_cluster': 1.2890762090682983},\n",
       "  {'closest_cluster': 0.0, 'distance_to_cluster': 2.3254904747009277},\n",
       "  {'closest_cluster': 6.0, 'distance_to_cluster': 2.563176393508911}]}"
      ]
     },
     "execution_count": 14,
     "metadata": {},
     "output_type": "execute_result"
    }
   ],
   "source": [
    "# Let's invoke predictions\n",
    "result = predictor.predict(multiple_observations)\n",
    "result"
   ]
  },
  {
   "cell_type": "code",
   "execution_count": 15,
   "metadata": {},
   "outputs": [
    {
     "data": {
      "text/plain": [
       "[2, 0, 6]"
      ]
     },
     "execution_count": 15,
     "metadata": {},
     "output_type": "execute_result"
    }
   ],
   "source": [
    "labels = [int(pred['closest_cluster']) for pred in result['predictions']]\n",
    "labels"
   ]
  },
  {
   "cell_type": "code",
   "execution_count": null,
   "metadata": {},
   "outputs": [],
   "source": []
  }
 ],
 "metadata": {
  "instance_type": "ml.t3.medium",
  "kernelspec": {
   "display_name": "Python 3 (Data Science)",
   "language": "python",
   "name": "python3__SAGEMAKER_INTERNAL__arn:aws:sagemaker:us-east-1:081325390199:image/datascience-1.0"
  },
  "language_info": {
   "codemirror_mode": {
    "name": "ipython",
    "version": 3
   },
   "file_extension": ".py",
   "mimetype": "text/x-python",
   "name": "python",
   "nbconvert_exporter": "python",
   "pygments_lexer": "ipython3",
   "version": "3.7.10"
  },
  "vscode": {
   "interpreter": {
    "hash": "0d83c50586832a6e66958999177b9690593214b6421a3b3b66343c1b4742b286"
   }
  }
 },
 "nbformat": 4,
 "nbformat_minor": 4
}
